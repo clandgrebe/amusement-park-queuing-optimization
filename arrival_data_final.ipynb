{
 "cells": [
  {
   "cell_type": "code",
   "execution_count": 9,
   "metadata": {
    "code_folding": [
     0
    ]
   },
   "outputs": [],
   "source": [
    "## Importing Libraries ## \n",
    "import numpy as np\n",
    "import seaborn as sns\n",
    "import pandas as pd\n",
    "import matplotlib.pyplot as plt\n",
    "import seaborn as sns\n",
    "import math\n",
    "from IPython.display import Markdown as md\n",
    "import warnings\n",
    "warnings.filterwarnings('ignore')\n",
    "from scipy.optimize import minimize\n"
   ]
  },
  {
   "cell_type": "code",
   "execution_count": 10,
   "metadata": {
    "code_folding": [
     3,
     4,
     9,
     20,
     23,
     34
    ],
    "hide_input": false
   },
   "outputs": [],
   "source": [
    "## Defining Classes and Stuff ## \n",
    "\n",
    "#############################\n",
    "class PoissonProcess():\n",
    "    def __init__(self, lam, T):\n",
    "        self.lam = lam\n",
    "        self.T = T\n",
    "        self.simulate()\n",
    "\n",
    "    def simulate(self, method='inter_arrival_time'):\n",
    "        if method == 'inter_arrival_time':\n",
    "            N = int(self.lam * self.T * 1.3)\n",
    "            inter_ls = np.random.exponential(1/self.lam, size=N)\n",
    "            arrival_time_ls = np.cumsum(inter_ls)\n",
    "            self.arrival_time_ls = arrival_time_ls[arrival_time_ls <= self.T]\n",
    "        if method == 'uniformity_property':\n",
    "            N = np.random.poisson(self.T * self.lam)\n",
    "            arrival_time_ls = np.random.uniform(0, self.T, size=N)\n",
    "            self.arrival_time_ls = np.sort(arrival_time_ls)\n",
    "\n",
    "    def get_arrival_time(self):\n",
    "        return self.arrival_time_ls\n",
    "\n",
    "    def print_parameter(self):\n",
    "        print('lambda = {}, T = {}'.format(self.lam, self.T))\n",
    "\n",
    "    def N_t(self, t):\n",
    "        assert t >= 0\n",
    "        assert t <= self.T\n",
    "        if t == 0:\n",
    "            return 0\n",
    "        else:\n",
    "            return np.argmax(self.arrival_time_ls > t)\n",
    "\n",
    "    def plot_N_t(self, color='r',alpha=1):\n",
    "        positive_inf = max(self.arrival_time_ls) * 1.2\n",
    "        negative_inf = - max(self.arrival_time_ls) * 0.1\n",
    "        n_arrival = len(self.arrival_time_ls)\n",
    "        x_ls = np.concatenate([[negative_inf, 0], np.repeat(self.arrival_time_ls,2), [positive_inf]])\n",
    "        y_ls = np.concatenate([[0], np.repeat(np.arange(n_arrival + 1),2)])\n",
    "        plt.plot(x_ls, y_ls, c=color, alpha=alpha)\n",
    "\n",
    "#############################"
   ]
  },
  {
   "cell_type": "markdown",
   "metadata": {},
   "source": [
    "___"
   ]
  },
  {
   "cell_type": "markdown",
   "metadata": {},
   "source": [
    "## Implementing Rejection Sampling"
   ]
  },
  {
   "cell_type": "code",
   "execution_count": 11,
   "metadata": {
    "code_folding": []
   },
   "outputs": [
    {
     "data": {
      "text/html": [
       "<div>\n",
       "<style scoped>\n",
       "    .dataframe tbody tr th:only-of-type {\n",
       "        vertical-align: middle;\n",
       "    }\n",
       "\n",
       "    .dataframe tbody tr th {\n",
       "        vertical-align: top;\n",
       "    }\n",
       "\n",
       "    .dataframe thead th {\n",
       "        text-align: right;\n",
       "    }\n",
       "</style>\n",
       "<table border=\"1\" class=\"dataframe\">\n",
       "  <thead>\n",
       "    <tr style=\"text-align: right;\">\n",
       "      <th></th>\n",
       "      <th>Date</th>\n",
       "      <th>8</th>\n",
       "      <th>11</th>\n",
       "      <th>4</th>\n",
       "    </tr>\n",
       "  </thead>\n",
       "  <tbody>\n",
       "    <tr>\n",
       "      <th>0</th>\n",
       "      <td>2019-11-01</td>\n",
       "      <td>1517</td>\n",
       "      <td>3330</td>\n",
       "      <td>3090.0</td>\n",
       "    </tr>\n",
       "    <tr>\n",
       "      <th>1</th>\n",
       "      <td>2019-11-02</td>\n",
       "      <td>1540</td>\n",
       "      <td>2820</td>\n",
       "      <td>3870.0</td>\n",
       "    </tr>\n",
       "    <tr>\n",
       "      <th>2</th>\n",
       "      <td>2019-11-03</td>\n",
       "      <td>1517</td>\n",
       "      <td>3210</td>\n",
       "      <td>3090.0</td>\n",
       "    </tr>\n",
       "    <tr>\n",
       "      <th>3</th>\n",
       "      <td>2019-11-04</td>\n",
       "      <td>1657</td>\n",
       "      <td>3000</td>\n",
       "      <td>2820.0</td>\n",
       "    </tr>\n",
       "    <tr>\n",
       "      <th>4</th>\n",
       "      <td>2019-11-05</td>\n",
       "      <td>1517</td>\n",
       "      <td>3180</td>\n",
       "      <td>2640.0</td>\n",
       "    </tr>\n",
       "  </tbody>\n",
       "</table>\n",
       "</div>"
      ],
      "text/plain": [
       "        Date     8    11       4\n",
       "0 2019-11-01  1517  3330  3090.0\n",
       "1 2019-11-02  1540  2820  3870.0\n",
       "2 2019-11-03  1517  3210  3090.0\n",
       "3 2019-11-04  1657  3000  2820.0\n",
       "4 2019-11-05  1517  3180  2640.0"
      ]
     },
     "execution_count": 11,
     "metadata": {},
     "output_type": "execute_result"
    }
   ],
   "source": [
    "## Loading in November Arrival Data ## \n",
    "rates = pd.read_csv('november_arrival_data.csv')\n",
    "rates['day'] = pd.to_datetime(rates['date'])\n",
    "rates = rates.drop('date', axis = 1)\n",
    "rates = rates[['day', 'open', 'peak', 'afternoon']]\n",
    "rates = rates.rename( columns = {'day' : 'Date', \n",
    "                                 'open' : '8', \n",
    "                                 'peak' : '11',\n",
    "                                 'afternoon' : '4', })\n",
    "rates = rates.dropna()\n",
    "rates.head(5)"
   ]
  },
  {
   "cell_type": "code",
   "execution_count": 12,
   "metadata": {
    "code_folding": [
     0
    ]
   },
   "outputs": [],
   "source": [
    "# Removing Outliers \n",
    "rates2 = rates.drop('Date', axis = 1)\n",
    "q1 = rates2.quantile(0.25)\n",
    "q3 = rates2.quantile(0.75)\n",
    "IQR = q3 - q1\n",
    "LB = q1 - 1.25*IQR\n",
    "UB = q3 + 1.25*IQR\n",
    "\n",
    "rates_in_8 = rates2[ (rates2['8'].between(LB[0], UB[0])) ][['8']]\n",
    "rates_out_8 = rates2[ ~(rates2['8'].between(LB[0], UB[0])) ][['8']]\n",
    "\n",
    "rates_in_11 = rates2[ (rates2['11'].between(LB[1], UB[1])) ][['11']]\n",
    "rates_out_11 = rates2[ ~(rates2['11'].between(LB[1], UB[1])) ][['11']]\n",
    "\n",
    "rates_in_4 = rates2[ (rates2['4'].between(LB[2], UB[2])) ][['4']]\n",
    "rates_out_4 = rates2[ ~(rates2['4'].between(LB[2], UB[2])) ][['4']]\n",
    "\n",
    "rates_in = pd.concat([rates_in_8,rates_in_11, rates_in_4], ignore_index=True, axis=1)\n",
    "rates_out = pd.concat([rates_out_8,rates_out_11, rates_out_4], ignore_index=True, axis=1)"
   ]
  },
  {
   "cell_type": "code",
   "execution_count": 13,
   "metadata": {
    "code_folding": [
     0
    ]
   },
   "outputs": [
    {
     "name": "stdout",
     "output_type": "stream",
     "text": [
      "Model #1 Arrival Rate:  2880.0  customers/hr\n"
     ]
    }
   ],
   "source": [
    "# Calculating Arrival Rate for Model # 1\n",
    "rates_in_flat = rates_in.values.flatten()\n",
    "rates_in_flat = rates_in_flat[~np.isnan(rates_in_flat)]\n",
    "print('Model #1 Arrival Rate: ', np.median(rates_in_flat), ' customers/hr')"
   ]
  },
  {
   "cell_type": "code",
   "execution_count": 14,
   "metadata": {
    "code_folding": [
     0
    ]
   },
   "outputs": [
    {
     "name": "stdout",
     "output_type": "stream",
     "text": [
      "Old Means:  [1747.68 3540.   3372.86]\n",
      "New Means:  [1651.28 3458.89 3168.  ]\n",
      "Old Medians:  [1610. 3180. 3030.]\n",
      "New Medians:  [1587. 3180. 2970.]\n"
     ]
    }
   ],
   "source": [
    "# Means & Medians after Removing Outliers\n",
    "\n",
    "old_means = [np.mean(rates2.iloc[:,i]) for i in np.arange(0,3)]\n",
    "old_medians = [np.median(rates2.iloc[:,i]) for i in np.arange(0,3)]\n",
    "\n",
    "new_means = [np.mean(rates_in[i].dropna()) for i in np.arange(0,3)]\n",
    "new_medians = [np.median(rates_in[i].dropna()) for i in np.arange(0,3)]\n",
    "\n",
    "print('Old Means: ', np.round(old_means, 2))\n",
    "print('New Means: ', np.round(new_means,2))\n",
    "\n",
    "print('Old Medians: ', np.round(old_medians, 2))\n",
    "print('New Medians: ', np.round(new_medians,2))"
   ]
  },
  {
   "cell_type": "code",
   "execution_count": 15,
   "metadata": {
    "code_folding": []
   },
   "outputs": [],
   "source": [
    "## Find the Coefficients for our Fourth-Order Arrival Rate Function ## \n",
    "p1 = [0.5, np.round(new_medians[0], 3)] #8:00 am\n",
    "p2 = [3.5, np.round(new_medians[1], 3)] #11:00 am\n",
    "p3 = [5.5, np.round(new_medians[1], 3)] #1:00 pm\n",
    "p4 = [8.5, np.round(new_medians[2], 3)] #4:00 pm\n",
    "p5 = [11.5,np.round(new_medians[0], 3)] #7:00 pm\n",
    "\n",
    "A = [[p1[0]**i for i in np.arange(5)], [p2[0]**i for i in np.arange(5)], [p3[0]**i for i in np.arange(5)],\n",
    "     [p4[0]**i for i in np.arange(5)], [p5[0]**i for i in np.arange(5)]]\n",
    "B = [p1[1], p2[1], p3[1], p4[1], p1[1]]\n",
    "x = np.linalg.inv(A).dot(B)"
   ]
  },
  {
   "cell_type": "code",
   "execution_count": 16,
   "metadata": {},
   "outputs": [
    {
     "data": {
      "text/plain": [
       "[1.0, 0.5, 0.25, 0.125, 0.0625]"
      ]
     },
     "execution_count": 16,
     "metadata": {},
     "output_type": "execute_result"
    }
   ],
   "source": [
    "[p1[0]**i for i in np.arange(5)]"
   ]
  },
  {
   "cell_type": "code",
   "execution_count": 17,
   "metadata": {
    "code_folding": []
   },
   "outputs": [],
   "source": [
    "## Time-Varying Arrival Rate Function ## \n",
    "def ArrivalRate_Function(t):\n",
    "    return x[0] + x[1]*t + x[2]*t**2 + x[3]*t**3 + x[4]*t**4"
   ]
  },
  {
   "cell_type": "code",
   "execution_count": 18,
   "metadata": {
    "code_folding": []
   },
   "outputs": [],
   "source": [
    "## Rejection Sampling to Simulate a Time-Inhomogeneous Poisson Process (arrival rate varies continuously) ## \n",
    "def RejectionSampling(rate_function):\n",
    "    \n",
    "    ## Differentiation of Rate Function  ## \n",
    "    optimized = minimize(lambda t: -rate_function(t), 0, tol=1e-9)\n",
    "    Max_ArrRate = -optimized.fun\n",
    "    timeof_Max_ArrRate = optimized.x\n",
    "    \n",
    "    ## Original Arrival List (simulated with the maximum rate)  ## \n",
    "    original_process = PoissonProcess(lam = Max_ArrRate, T = 11.999)\n",
    "    original_arrival_ls = original_process.get_arrival_time()\n",
    "    num_original_arrivals = len(original_arrival_ls)\n",
    "    #print(\"num_original_arrivals = \",num_original_arrivals)\n",
    "    \n",
    "    ## Thinning Process  ## \n",
    "    accepted_arrival_ls = [] \n",
    "    \n",
    "    for arr_time in original_arrival_ls:\n",
    "        u = np.random.uniform(0,1)\n",
    "        keep_prob = np.round(rate_function(arr_time),3) / round(Max_ArrRate,3)        \n",
    "        if abs(keep_prob<0.00001):\n",
    "            keep_prob=0\n",
    "            \n",
    "        binom = np.random.binomial(n = 1, p = keep_prob)\n",
    "        if binom:\n",
    "            accepted_arrival_ls = np.append(accepted_arrival_ls, np.round(arr_time,3))\n",
    "        \n",
    "    return np.round(accepted_arrival_ls,3)"
   ]
  },
  {
   "cell_type": "code",
   "execution_count": 19,
   "metadata": {
    "code_folding": []
   },
   "outputs": [],
   "source": [
    "## Iteratively generate 30 days of arrivals to use for models ## \n",
    "for day in np.arange(1,31):\n",
    "    arrivals = RejectionSampling(ArrivalRate_Function)\n",
    "    dict = {\"ArrivalTime\":arrivals}\n",
    "    df = pd.DataFrame(dict)    \n",
    "    df.to_csv('data/day'+str(day)+'_arrivals.csv', index=False)"
   ]
  },
  {
   "cell_type": "code",
   "execution_count": null,
   "metadata": {},
   "outputs": [],
   "source": []
  }
 ],
 "metadata": {
  "hide_input": false,
  "kernelspec": {
   "display_name": "Python 3",
   "language": "python",
   "name": "python3"
  },
  "language_info": {
   "codemirror_mode": {
    "name": "ipython",
    "version": 3
   },
   "file_extension": ".py",
   "mimetype": "text/x-python",
   "name": "python",
   "nbconvert_exporter": "python",
   "pygments_lexer": "ipython3",
   "version": "3.8.5"
  }
 },
 "nbformat": 4,
 "nbformat_minor": 4
}
